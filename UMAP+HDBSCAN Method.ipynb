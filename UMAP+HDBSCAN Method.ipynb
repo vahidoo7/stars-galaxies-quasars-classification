{
 "cells": [
  {
   "cell_type": "code",
   "execution_count": 1,
   "id": "3c188368",
   "metadata": {},
   "outputs": [
    {
     "name": "stdout",
     "output_type": "stream",
     "text": [
      "WARNING:tensorflow:From e:\\programs\\python\\python310\\lib\\site-packages\\keras\\src\\losses.py:2976: The name tf.losses.sparse_softmax_cross_entropy is deprecated. Please use tf.compat.v1.losses.sparse_softmax_cross_entropy instead.\n",
      "\n"
     ]
    }
   ],
   "source": [
    "import pandas as pd\n",
    "import numpy as np\n",
    "from astropy.table import Table\n",
    "import matplotlib.pyplot as plt\n",
    "import seaborn as sns\n",
    "from sklearn.preprocessing import StandardScaler\n",
    "from sklearn.metrics import classification_report\n",
    "from umap import UMAP\n",
    "import matplotlib.patches as mpatches\n",
    "from sklearn.decomposition import PCA, KernelPCA\n",
    "from sklearn.model_selection import train_test_split\n",
    "from sklearn.cluster import HDBSCAN\n",
    "import matplotlib.cm as cm\n",
    "import time\n",
    "import warnings\n",
    "import pickle\n",
    "from sklearn.metrics import ConfusionMatrixDisplay\n",
    "warnings.filterwarnings('ignore')"
   ]
  },
  {
   "cell_type": "code",
   "execution_count": null,
   "id": "d7651526",
   "metadata": {},
   "outputs": [],
   "source": []
  },
  {
   "cell_type": "markdown",
   "id": "4b592c38",
   "metadata": {},
   "source": [
    "## `Needed Function`"
   ]
  },
  {
   "cell_type": "code",
   "execution_count": 3,
   "id": "6187ebba",
   "metadata": {},
   "outputs": [],
   "source": [
    "def calculate_pairwise_differences_any(data):\n",
    "    ln = len(data.columns)\n",
    "    for i in range(ln):\n",
    "        for j in range(ln):\n",
    "            if i < j:\n",
    "                diff_name = f\"{data.columns[i]}{data.columns[j]}\"\n",
    "                data[diff_name] = data[data.columns[i]] - data[data.columns[j]]\n",
    "    return data"
   ]
  },
  {
   "cell_type": "code",
   "execution_count": null,
   "id": "0cb47464",
   "metadata": {},
   "outputs": [],
   "source": []
  },
  {
   "cell_type": "markdown",
   "id": "a5cbb979",
   "metadata": {},
   "source": [
    "## `Data`"
   ]
  },
  {
   "cell_type": "code",
   "execution_count": 4,
   "id": "72ddc4c5",
   "metadata": {},
   "outputs": [],
   "source": [
    "filename = 'FP18_data.fit'\n",
    "df = Table.read(filename).to_pandas()\n",
    "df = df.iloc[:,:-4]\n",
    "df = pd.concat([df.iloc[:,:5], calculate_pairwise_differences_any(df.iloc[:,5:])], axis=1)\n",
    "\n",
    "st = StandardScaler()\n",
    "result1 = st.fit_transform(df.iloc[:,25:])\n",
    "standard_df = pd.DataFrame(result1, columns=df.iloc[:,25:].columns)"
   ]
  },
  {
   "cell_type": "code",
   "execution_count": null,
   "id": "7e7d3eff",
   "metadata": {},
   "outputs": [],
   "source": []
  },
  {
   "cell_type": "markdown",
   "id": "7cf5be71",
   "metadata": {},
   "source": [
    "## `UMAP+HDBSCAN Method`"
   ]
  },
  {
   "cell_type": "code",
   "execution_count": 5,
   "id": "ebecec78",
   "metadata": {},
   "outputs": [],
   "source": [
    "umap = UMAP(n_components=10, n_neighbors=200)\n",
    "model = umap.fit_transform(standard_df)\n",
    "\n",
    "hdb = HDBSCAN(min_cluster_size=3000, min_samples=500)\n",
    "clusters = hdb.fit_predict(model)"
   ]
  },
  {
   "cell_type": "code",
   "execution_count": null,
   "id": "2fca4497",
   "metadata": {},
   "outputs": [],
   "source": []
  },
  {
   "cell_type": "code",
   "execution_count": 6,
   "id": "68c3ff61",
   "metadata": {},
   "outputs": [
    {
     "name": "stdout",
     "output_type": "stream",
     "text": [
      "Total objects: 48686\n",
      "Noise points: 0 (0.0%)\n",
      "Clustered objects: 48686 (100.0%)\n",
      "Cluster 0: 7650 objects (15.7%)\n",
      "Cluster 1: 9770 objects (20.1%)\n",
      "Cluster 2: 3704 objects (7.6%)\n",
      "Cluster 3: 27562 objects (56.6%)\n"
     ]
    }
   ],
   "source": [
    "# Get all unique cluster labels (-1 is noise)\n",
    "unique_labels, counts = np.unique(clusters, return_counts=True)\n",
    "\n",
    "# Separate noise and clusters\n",
    "noise_mask = (clusters == -1)\n",
    "cluster_mask = ~noise_mask\n",
    "\n",
    "print(f\"Total objects: {len(clusters)}\")\n",
    "print(f\"Noise points: {np.sum(noise_mask)} ({np.mean(noise_mask)*100:.1f}%)\")\n",
    "print(f\"Clustered objects: {np.sum(cluster_mask)} ({np.mean(cluster_mask)*100:.1f}%)\")\n",
    "\n",
    "# Print size of each cluster\n",
    "for label, count in zip(unique_labels, counts):\n",
    "    if label == -1:\n",
    "        print(f\"Noise: {count} objects\")\n",
    "    else:\n",
    "        print(f\"Cluster {label}: {count} objects ({count/len(clusters)*100:.1f}%)\")"
   ]
  },
  {
   "cell_type": "code",
   "execution_count": null,
   "id": "47ca8fe3",
   "metadata": {},
   "outputs": [],
   "source": []
  },
  {
   "cell_type": "code",
   "execution_count": 8,
   "id": "3f286391",
   "metadata": {},
   "outputs": [],
   "source": [
    "# Using Spectroscopy data for identifying classes\n",
    "df['hdb_label'] = clusters\n",
    "df['hdb_label'] = df['hdb_label'].replace(3,1)\n",
    "df['hdb_label'] = df['hdb_label'].replace(2,3)"
   ]
  },
  {
   "cell_type": "code",
   "execution_count": 11,
   "id": "918bfc62",
   "metadata": {},
   "outputs": [],
   "source": []
  },
  {
   "cell_type": "code",
   "execution_count": 9,
   "id": "a92a08dd",
   "metadata": {},
   "outputs": [
    {
     "name": "stdout",
     "output_type": "stream",
     "text": [
      "              precision    recall  f1-score   support\n",
      "\n",
      "           0     0.9965    0.9860    0.9912      7731\n",
      "           1     0.9795    0.9946    0.9870     36763\n",
      "           3     0.9506    0.8399    0.8918      4192\n",
      "\n",
      "    accuracy                         0.9799     48686\n",
      "   macro avg     0.9755    0.9402    0.9567     48686\n",
      "weighted avg     0.9797    0.9799    0.9795     48686\n",
      "\n"
     ]
    }
   ],
   "source": [
    "print(classification_report(df['Hclass'] , df['hdb_label'], digits=4))"
   ]
  },
  {
   "cell_type": "code",
   "execution_count": null,
   "id": "987ede96",
   "metadata": {},
   "outputs": [],
   "source": []
  }
 ],
 "metadata": {
  "kernelspec": {
   "display_name": "Python 3",
   "language": "python",
   "name": "python3"
  },
  "language_info": {
   "codemirror_mode": {
    "name": "ipython",
    "version": 3
   },
   "file_extension": ".py",
   "mimetype": "text/x-python",
   "name": "python",
   "nbconvert_exporter": "python",
   "pygments_lexer": "ipython3",
   "version": "3.10.10"
  }
 },
 "nbformat": 4,
 "nbformat_minor": 5
}
